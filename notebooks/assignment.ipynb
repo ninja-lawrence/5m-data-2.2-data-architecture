{
 "cells": [
  {
   "cell_type": "markdown",
   "id": "55ab638e",
   "metadata": {},
   "source": [
    "# Assignment\n",
    "\n",
    "## Brief\n",
    "\n",
    "Write the Python codes for the following questions.\n",
    "\n",
    "## Instructions\n",
    "\n",
    "Paste the answer as Python in the answer code section below each question."
   ]
  },
  {
   "cell_type": "code",
   "execution_count": 2,
   "id": "1b2939ad",
   "metadata": {},
   "outputs": [],
   "source": [
    "import redis\n",
    "\n",
    "r = redis.Redis(\n",
    "    host='redis-15575.c240.us-east-1-3.ec2.redns.redis-cloud.com',\n",
    "    port=15575,\n",
    "    decode_responses=True,\n",
    "    username=\"default\",\n",
    "    password=\"mVawgSsegmy5oHrVHZTfe7ErpwvJor1F\",\n",
    ")"
   ]
  },
  {
   "cell_type": "markdown",
   "id": "e846822d",
   "metadata": {},
   "source": [
    "### Question 1\n",
    "\n",
    "Question: How would you create a new hash in Redis to store information about a person, with `john_doe` as the key and include the name (`John Doe`), age (`35`), and email address (`john@email.com`)?\n"
   ]
  },
  {
   "cell_type": "code",
   "execution_count": 5,
   "id": "9a4c3326",
   "metadata": {},
   "outputs": [
    {
     "data": {
      "text/plain": [
       "{'name': 'John Doe', 'age': '35', 'email': 'john@email.com'}"
      ]
     },
     "execution_count": 5,
     "metadata": {},
     "output_type": "execute_result"
    }
   ],
   "source": [
    "# How would you create a new hash in Redis to store information about a person, with `john_doe` as the key and include the name (`John Doe`), age (`35`), and email address (`john@email.com`)?\n",
    "r.hset(\"john_doe\", mapping={\n",
    "    \"name\": \"John Doe\",\n",
    "    \"age\": \"35\",\n",
    "    \"email\": \"john@email.com\"\n",
    "})\n",
    "# get r\n",
    "r.hgetall(\"john_doe\")"
   ]
  },
  {
   "cell_type": "markdown",
   "id": "4ebccbc4",
   "metadata": {},
   "source": [
    "\n",
    "### Question 2\n",
    "\n",
    "Question: Write Python code to list the first 10 objects (blob name) in the \"gcp-public-data-landsat\" bucket, along with their sizes.\n"
   ]
  },
  {
   "cell_type": "code",
   "execution_count": 2,
   "id": "508c7d54",
   "metadata": {},
   "outputs": [],
   "source": [
    "from google.cloud import storage"
   ]
  },
  {
   "cell_type": "code",
   "execution_count": 3,
   "id": "8fbc2d63",
   "metadata": {},
   "outputs": [],
   "source": [
    "client = storage.Client()"
   ]
  },
  {
   "cell_type": "code",
   "execution_count": 4,
   "id": "e4860ec6",
   "metadata": {},
   "outputs": [],
   "source": [
    "bucket = client.get_bucket('gcp-public-data-landsat')"
   ]
  },
  {
   "cell_type": "code",
   "execution_count": 5,
   "id": "92bb47ec",
   "metadata": {},
   "outputs": [
    {
     "name": "stdout",
     "output_type": "stream",
     "text": [
      "Blobs in gcp-public-data-landsat:\n",
      "\tLC08/01/001/002/LC08_L1GT_001002_20160817_20170322_01_T2/LC08_L1GT_001002_20160817_20170322_01_T2_ANG.txt (117255 bytes)\n",
      "\tLC08/01/001/002/LC08_L1GT_001002_20160817_20170322_01_T2/LC08_L1GT_001002_20160817_20170322_01_T2_B1.TIF (75085385 bytes)\n",
      "\tLC08/01/001/002/LC08_L1GT_001002_20160817_20170322_01_T2/LC08_L1GT_001002_20160817_20170322_01_T2_B10.TIF (40612836 bytes)\n",
      "\tLC08/01/001/002/LC08_L1GT_001002_20160817_20170322_01_T2/LC08_L1GT_001002_20160817_20170322_01_T2_B11.TIF (39267654 bytes)\n",
      "\tLC08/01/001/002/LC08_L1GT_001002_20160817_20170322_01_T2/LC08_L1GT_001002_20160817_20170322_01_T2_B2.TIF (76259448 bytes)\n",
      "\tLC08/01/001/002/LC08_L1GT_001002_20160817_20170322_01_T2/LC08_L1GT_001002_20160817_20170322_01_T2_B3.TIF (76813565 bytes)\n",
      "\tLC08/01/001/002/LC08_L1GT_001002_20160817_20170322_01_T2/LC08_L1GT_001002_20160817_20170322_01_T2_B4.TIF (78510140 bytes)\n",
      "\tLC08/01/001/002/LC08_L1GT_001002_20160817_20170322_01_T2/LC08_L1GT_001002_20160817_20170322_01_T2_B5.TIF (80344717 bytes)\n",
      "\tLC08/01/001/002/LC08_L1GT_001002_20160817_20170322_01_T2/LC08_L1GT_001002_20160817_20170322_01_T2_B6.TIF (76416634 bytes)\n",
      "\tLC08/01/001/002/LC08_L1GT_001002_20160817_20170322_01_T2/LC08_L1GT_001002_20160817_20170322_01_T2_B7.TIF (73888286 bytes)\n"
     ]
    }
   ],
   "source": [
    "# Write Python code to list the first 10 objects (blob name) in the \"gcp-public-data-landsat\" bucket, along with their sizes.\n",
    "blobs = bucket.list_blobs()\n",
    "print(\"Blobs in {}:\".format(bucket.name))\n",
    "for ix, item in enumerate(blobs):\n",
    "    print(\"\\t\" + item.name + \" (\" + str(item.size) + \" bytes)\")\n",
    "    if ix == 9:\n",
    "        break"
   ]
  }
 ],
 "metadata": {
  "kernelspec": {
   "display_name": "bde",
   "language": "python",
   "name": "python3"
  },
  "language_info": {
   "codemirror_mode": {
    "name": "ipython",
    "version": 3
   },
   "file_extension": ".py",
   "mimetype": "text/x-python",
   "name": "python",
   "nbconvert_exporter": "python",
   "pygments_lexer": "ipython3",
   "version": "3.10.13"
  }
 },
 "nbformat": 4,
 "nbformat_minor": 5
}
